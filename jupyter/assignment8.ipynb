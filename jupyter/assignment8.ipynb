{
 "cells": [
  {
   "cell_type": "markdown",
   "metadata": {},
   "source": [
    "## Assignment 8"
   ]
  },
  {
   "cell_type": "code",
   "execution_count": 23,
   "metadata": {},
   "outputs": [
    {
     "name": "stdout",
     "output_type": "stream",
     "text": [
      "numpy 1.14.1\n",
      "pystan 2.17.1.0\n"
     ]
    }
   ],
   "source": [
    "%matplotlib inline\n",
    "\n",
    "import numpy as np\n",
    "\n",
    "import pystan\n",
    "import stan_utility\n",
    "\n",
    "import matplotlib\n",
    "import matplotlib.pyplot as plt\n",
    "\n",
    "from IPython.display import display, Markdown, Latex\n",
    "\n",
    "font = {'size': 16}\n",
    "\n",
    "matplotlib.rc('font', **font)\n",
    "\n",
    "print('numpy', np.__version__)\n",
    "print('pystan', pystan.__version__)"
   ]
  },
  {
   "cell_type": "markdown",
   "metadata": {},
   "source": [
    "### Decision analysis for the factory data"
   ]
  },
  {
   "cell_type": "markdown",
   "metadata": {},
   "source": [
    "Some configuration values and utility functions:"
   ]
  },
  {
   "cell_type": "code",
   "execution_count": 5,
   "metadata": {},
   "outputs": [],
   "source": [
    "product_cost       = 100\n",
    "product_price      = 200\n",
    "quality_threshold  = 85"
   ]
  },
  {
   "cell_type": "code",
   "execution_count": 7,
   "metadata": {},
   "outputs": [],
   "source": [
    "def utility(x):    \n",
    "    if x < quality_threshold:\n",
    "        return -product_cost\n",
    "    else:\n",
    "        return product_price - product_cost"
   ]
  },
  {
   "cell_type": "markdown",
   "metadata": {},
   "source": [
    "We load the data"
   ]
  },
  {
   "cell_type": "code",
   "execution_count": 3,
   "metadata": {},
   "outputs": [
    {
     "data": {
      "text/plain": [
       "(5, 6)"
      ]
     },
     "execution_count": 3,
     "metadata": {},
     "output_type": "execute_result"
    }
   ],
   "source": [
    "data_factory = np.loadtxt('../data/factory.txt')\n",
    "data_factory.shape"
   ]
  },
  {
   "cell_type": "markdown",
   "metadata": {},
   "source": [
    "#### Model\n",
    "We will use the hierarchical model since it performed the best in the previous assignments."
   ]
  },
  {
   "cell_type": "code",
   "execution_count": 57,
   "metadata": {},
   "outputs": [
    {
     "name": "stderr",
     "output_type": "stream",
     "text": [
      "INFO:pystan:COMPILING THE C++ CODE FOR MODEL anon_model_4613248e8d92bdc69af854e6ce557634 NOW.\n"
     ]
    }
   ],
   "source": [
    "stan_code_hierarchical = \"\"\"\n",
    "data {\n",
    "  int<lower=0> N;            // number of data points\n",
    "  int<lower=0> K;            // number of groups\n",
    "  int<lower=1,upper=K> x[N]; // group indicator\n",
    "  vector[N] y;               // target\n",
    "}\n",
    "parameters {\n",
    "  real mu_prior;             // shared prior mean\n",
    "  real<lower=0> sigma_prior; // shared prior std\n",
    "  vector[K] mu;              // group means\n",
    "  real<lower=0> sigma;       // shared std\n",
    "}\n",
    "model {\n",
    "  for (k in 1:K) {\n",
    "    mu[k] ~ normal(mu_prior, sigma_prior);\n",
    "  }\n",
    "  y ~ normal(mu[x], sigma);\n",
    "}\n",
    "generated quantities {\n",
    "  real mu_new;\n",
    "  mu_new = normal_rng(mu_prior, sigma_prior);\n",
    "}\n",
    "\"\"\"\n",
    "\n",
    "model_hierarchical = pystan.StanModel(model_code = stan_code_hierarchical)"
   ]
  },
  {
   "cell_type": "code",
   "execution_count": 58,
   "metadata": {},
   "outputs": [
    {
     "name": "stderr",
     "output_type": "stream",
     "text": [
      "c:\\users\\ncp\\appdata\\local\\continuum\\anaconda3\\envs\\stan_env\\lib\\site-packages\\pystan\\misc.py:399: FutureWarning: Conversion of the second argument of issubdtype from `float` to `np.floating` is deprecated. In future, it will be treated as `np.float64 == np.dtype(float).type`.\n",
      "  elif np.issubdtype(np.asarray(v).dtype, float):\n"
     ]
    }
   ],
   "source": [
    "x = np.tile(np.arange(1, data_factory.shape[1] + 1), data_factory.shape[0])\n",
    "y = data_factory.flatten()\n",
    "N = len(x)\n",
    "K = np.max(x)\n",
    "\n",
    "fit_hierarchical = model_hierarchical.sampling(\n",
    "    data = {\n",
    "        'N': N,\n",
    "        'K': K,\n",
    "        'x': x,\n",
    "        'y': y\n",
    "    })"
   ]
  },
  {
   "cell_type": "markdown",
   "metadata": {},
   "source": [
    "We check the fitted parameters and the performance of the fit, i.e. the treedepth, E-BFMI, and divergences:"
   ]
  },
  {
   "cell_type": "code",
   "execution_count": 59,
   "metadata": {},
   "outputs": [
    {
     "name": "stdout",
     "output_type": "stream",
     "text": [
      "0 of 4000 iterations saturated the maximum tree depth of 10 (0.0%)\n",
      "12.0 of 4000 iterations ended with a divergence (0.3%)\n",
      "Try running with larger adapt_delta to remove the divergences\n"
     ]
    }
   ],
   "source": [
    "stan_utility.check_treedepth(fit_hierarchical)\n",
    "stan_utility.check_energy(fit_hierarchical)\n",
    "stan_utility.check_div(fit_hierarchical)"
   ]
  },
  {
   "cell_type": "markdown",
   "metadata": {},
   "source": [
    "We see some iterations ended with a divergence, but since it is such small fraction, we accept the performance."
   ]
  },
  {
   "cell_type": "code",
   "execution_count": 60,
   "metadata": {},
   "outputs": [],
   "source": [
    "params = fit_hierarchical.extract()"
   ]
  },
  {
   "cell_type": "markdown",
   "metadata": {},
   "source": [
    "We calculate the expected utility for each of the six machines:"
   ]
  },
  {
   "cell_type": "code",
   "execution_count": 61,
   "metadata": {},
   "outputs": [],
   "source": [
    "vec_utility = np.vectorize(utility)"
   ]
  },
  {
   "cell_type": "code",
   "execution_count": 62,
   "metadata": {},
   "outputs": [
    {
     "data": {
      "text/markdown": [
       "$\\bar{\\mathrm{u}}_1 = -56.15$"
      ],
      "text/plain": [
       "<IPython.core.display.Markdown object>"
      ]
     },
     "metadata": {},
     "output_type": "display_data"
    },
    {
     "data": {
      "text/markdown": [
       "$\\bar{\\mathrm{u}}_2 = 99.25$"
      ],
      "text/plain": [
       "<IPython.core.display.Markdown object>"
      ]
     },
     "metadata": {},
     "output_type": "display_data"
    },
    {
     "data": {
      "text/markdown": [
       "$\\bar{\\mathrm{u}}_3 = 49.60$"
      ],
      "text/plain": [
       "<IPython.core.display.Markdown object>"
      ]
     },
     "metadata": {},
     "output_type": "display_data"
    },
    {
     "data": {
      "text/markdown": [
       "$\\bar{\\mathrm{u}}_4 = 99.90$"
      ],
      "text/plain": [
       "<IPython.core.display.Markdown object>"
      ]
     },
     "metadata": {},
     "output_type": "display_data"
    },
    {
     "data": {
      "text/markdown": [
       "$\\bar{\\mathrm{u}}_5 = 66.35$"
      ],
      "text/plain": [
       "<IPython.core.display.Markdown object>"
      ]
     },
     "metadata": {},
     "output_type": "display_data"
    },
    {
     "data": {
      "text/markdown": [
       "$\\bar{\\mathrm{u}}_6 = 33.15$"
      ],
      "text/plain": [
       "<IPython.core.display.Markdown object>"
      ]
     },
     "metadata": {},
     "output_type": "display_data"
    }
   ],
   "source": [
    "mu = vec_utility(params['mu']).mean(axis = 0)\n",
    "for i in range(6):\n",
    "    display(Markdown(r'$\\bar{\\mathrm{u}}_' + str(i + 1) + r' = ' + '{:.2f}'.format(mu[i]) + r'$')) "
   ]
  },
  {
   "cell_type": "markdown",
   "metadata": {},
   "source": [
    "We rank the machines based on the expected utilities "
   ]
  },
  {
   "cell_type": "code",
   "execution_count": 63,
   "metadata": {},
   "outputs": [
    {
     "data": {
      "text/markdown": [
       "Rank 1: Machine 4 ($\\bar{\\mathrm{u}}_4 = 99.90)$"
      ],
      "text/plain": [
       "<IPython.core.display.Markdown object>"
      ]
     },
     "metadata": {},
     "output_type": "display_data"
    },
    {
     "data": {
      "text/markdown": [
       "Rank 2: Machine 2 ($\\bar{\\mathrm{u}}_2 = 99.25)$"
      ],
      "text/plain": [
       "<IPython.core.display.Markdown object>"
      ]
     },
     "metadata": {},
     "output_type": "display_data"
    },
    {
     "data": {
      "text/markdown": [
       "Rank 3: Machine 5 ($\\bar{\\mathrm{u}}_5 = 66.35)$"
      ],
      "text/plain": [
       "<IPython.core.display.Markdown object>"
      ]
     },
     "metadata": {},
     "output_type": "display_data"
    },
    {
     "data": {
      "text/markdown": [
       "Rank 4: Machine 3 ($\\bar{\\mathrm{u}}_3 = 49.60)$"
      ],
      "text/plain": [
       "<IPython.core.display.Markdown object>"
      ]
     },
     "metadata": {},
     "output_type": "display_data"
    },
    {
     "data": {
      "text/markdown": [
       "Rank 5: Machine 6 ($\\bar{\\mathrm{u}}_6 = 33.15)$"
      ],
      "text/plain": [
       "<IPython.core.display.Markdown object>"
      ]
     },
     "metadata": {},
     "output_type": "display_data"
    },
    {
     "data": {
      "text/markdown": [
       "Rank 6: Machine 1 ($\\bar{\\mathrm{u}}_1 = -56.15)$"
      ],
      "text/plain": [
       "<IPython.core.display.Markdown object>"
      ]
     },
     "metadata": {},
     "output_type": "display_data"
    }
   ],
   "source": [
    "mu = vec_utility(params['mu']).mean(axis = 0)\n",
    "rank =  np.argsort(-mu)\n",
    "\n",
    "for i in range(6):\n",
    "    display(Markdown(\n",
    "        'Rank ' + str(i + 1) + r': Machine ' + str(rank[i] + 1) +\n",
    "        r' ($\\bar{\\mathrm{u}}_' + str(rank[i] + 1) + r' = ' + '{:.2f}'.format(mu[rank[i]]) + r')$')) "
   ]
  },
  {
   "cell_type": "markdown",
   "metadata": {},
   "source": [
    "We see that all machines execpt machine 1 makes a profit. We should advise to stop using machine 1 instantly. The other 5 machines (2-6) all makes profit, altough the amount of profit varies much. The best profitable machines are 4 and 2."
   ]
  },
  {
   "cell_type": "markdown",
   "metadata": {},
   "source": [
    "For the 7th machine, we predict the followin utility:"
   ]
  },
  {
   "cell_type": "code",
   "execution_count": 64,
   "metadata": {},
   "outputs": [
    {
     "data": {
      "text/markdown": [
       "$\\bar{\\mathrm{u}}_7 = 40.55$"
      ],
      "text/plain": [
       "<IPython.core.display.Markdown object>"
      ]
     },
     "metadata": {},
     "output_type": "display_data"
    }
   ],
   "source": [
    "mu7 = vec_utility(params['mu_new']).mean()\n",
    "display(Markdown(r'$\\bar{\\mathrm{u}}_7 = ' + '{:.2f}'.format(mu7) + r'$')) "
   ]
  },
  {
   "cell_type": "markdown",
   "metadata": {},
   "source": [
    "Since the predicted utility for the 7th machine is positive, we advise the owners to buy a 7th machine."
   ]
  }
 ],
 "metadata": {
  "kernelspec": {
   "display_name": "Python 3",
   "language": "python",
   "name": "python3"
  },
  "language_info": {
   "codemirror_mode": {
    "name": "ipython",
    "version": 3
   },
   "file_extension": ".py",
   "mimetype": "text/x-python",
   "name": "python",
   "nbconvert_exporter": "python",
   "pygments_lexer": "ipython3",
   "version": "3.6.4"
  }
 },
 "nbformat": 4,
 "nbformat_minor": 2
}
