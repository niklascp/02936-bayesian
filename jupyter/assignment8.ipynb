{
 "cells": [
  {
   "cell_type": "markdown",
   "metadata": {},
   "source": [
    "## Assignment 8"
   ]
  },
  {
   "cell_type": "code",
   "execution_count": 1,
   "metadata": {},
   "outputs": [
    {
     "name": "stdout",
     "output_type": "stream",
     "text": [
      "numpy 1.14.1\n",
      "pystan 2.17.1.0\n"
     ]
    }
   ],
   "source": [
    "%matplotlib inline\n",
    "\n",
    "import numpy as np\n",
    "\n",
    "import pystan\n",
    "import stan_utility\n",
    "\n",
    "import matplotlib\n",
    "import matplotlib.pyplot as plt\n",
    "\n",
    "font = {'size': 16}\n",
    "\n",
    "matplotlib.rc('font', **font)\n",
    "\n",
    "print('numpy', np.__version__)\n",
    "print('pystan', pystan.__version__)"
   ]
  },
  {
   "cell_type": "markdown",
   "metadata": {},
   "source": [
    "### Decision analysis for the factory data"
   ]
  },
  {
   "cell_type": "markdown",
   "metadata": {},
   "source": [
    "Some configuration values and utility functions:"
   ]
  },
  {
   "cell_type": "code",
   "execution_count": 5,
   "metadata": {},
   "outputs": [],
   "source": [
    "product_cost       = 100\n",
    "product_price      = 200\n",
    "quality_threshold  = 85"
   ]
  },
  {
   "cell_type": "code",
   "execution_count": 7,
   "metadata": {},
   "outputs": [],
   "source": [
    "def utility(x):    \n",
    "    if x < quality_threshold:\n",
    "        return -product_cost\n",
    "    else:\n",
    "        return product_price - product_cost"
   ]
  },
  {
   "cell_type": "markdown",
   "metadata": {},
   "source": [
    "We load the data"
   ]
  },
  {
   "cell_type": "code",
   "execution_count": 3,
   "metadata": {},
   "outputs": [
    {
     "data": {
      "text/plain": [
       "(5, 6)"
      ]
     },
     "execution_count": 3,
     "metadata": {},
     "output_type": "execute_result"
    }
   ],
   "source": [
    "data_factory = np.loadtxt('../data/factory.txt')\n",
    "data_factory.shape"
   ]
  },
  {
   "cell_type": "markdown",
   "metadata": {},
   "source": [
    "#### Model\n",
    "We will use the hierarchical model since it performed the best in the previous assignments."
   ]
  },
  {
   "cell_type": "code",
   "execution_count": 8,
   "metadata": {},
   "outputs": [
    {
     "name": "stderr",
     "output_type": "stream",
     "text": [
      "INFO:pystan:COMPILING THE C++ CODE FOR MODEL anon_model_c021d9288ff6eb39578ac2232b0d58fb NOW.\n"
     ]
    }
   ],
   "source": [
    "stan_code_hierarchical = \"\"\"\n",
    "data {\n",
    "  int<lower=0> N;            // number of data points\n",
    "  int<lower=0> K;            // number of groups\n",
    "  int<lower=1,upper=K> x[N]; // group indicator\n",
    "  vector[N] y;               // target\n",
    "}\n",
    "parameters {\n",
    "  real mu_prior;             // shared prior mean\n",
    "  real<lower=0> sigma_prior; // shared prior std\n",
    "  vector[K] mu;              // group means\n",
    "  real<lower=0> sigma;       // shared std\n",
    "}\n",
    "model {\n",
    "  for (k in 1:K) {\n",
    "    mu[k] ~ normal(mu_prior, sigma_prior);\n",
    "  }\n",
    "  y ~ normal(mu[x], sigma);\n",
    "}\n",
    "generated quantities {\n",
    "}\n",
    "\"\"\"\n",
    "\n",
    "model_hierarchical = pystan.StanModel(model_code = stan_code_hierarchical)"
   ]
  },
  {
   "cell_type": "code",
   "execution_count": 9,
   "metadata": {},
   "outputs": [
    {
     "name": "stderr",
     "output_type": "stream",
     "text": [
      "c:\\users\\ncp\\appdata\\local\\continuum\\anaconda3\\envs\\stan_env\\lib\\site-packages\\pystan\\misc.py:399: FutureWarning: Conversion of the second argument of issubdtype from `float` to `np.floating` is deprecated. In future, it will be treated as `np.float64 == np.dtype(float).type`.\n",
      "  elif np.issubdtype(np.asarray(v).dtype, float):\n"
     ]
    }
   ],
   "source": [
    "x = np.tile(np.arange(1, data_factory.shape[1] + 1), data_factory.shape[0])\n",
    "y = data_factory.flatten()\n",
    "N = len(x)\n",
    "K = np.max(x)\n",
    "\n",
    "fit_hierarchical = model_hierarchical.sampling(\n",
    "    data = {\n",
    "        'N': N,\n",
    "        'K': K,\n",
    "        'x': x,\n",
    "        'y': y\n",
    "    })"
   ]
  },
  {
   "cell_type": "markdown",
   "metadata": {},
   "source": [
    "We check the fitted parameters and the performance of the fit, i.e. the treedepth, E-BFMI, and divergences:"
   ]
  },
  {
   "cell_type": "code",
   "execution_count": 66,
   "metadata": {},
   "outputs": [
    {
     "name": "stdout",
     "output_type": "stream",
     "text": [
      "0 of 4000 iterations saturated the maximum tree depth of 10 (0.0%)\n",
      "21.0 of 4000 iterations ended with a divergence (0.525%)\n",
      "Try running with larger adapt_delta to remove the divergences\n"
     ]
    }
   ],
   "source": [
    "stan_utility.check_treedepth(fit_hierarchical)\n",
    "stan_utility.check_energy(fit_hierarchical)\n",
    "stan_utility.check_div(fit_hierarchical)"
   ]
  },
  {
   "cell_type": "markdown",
   "metadata": {},
   "source": [
    "We see some iterations ended with a divergence, but since it is such small fraction, we accept the performance."
   ]
  },
  {
   "cell_type": "code",
   "execution_count": 12,
   "metadata": {},
   "outputs": [],
   "source": [
    "params = fit_hierarchical.extract()"
   ]
  },
  {
   "cell_type": "code",
   "execution_count": 19,
   "metadata": {},
   "outputs": [],
   "source": [
    "vec_utility = np.vectorize(utility)\n"
   ]
  },
  {
   "cell_type": "code",
   "execution_count": 22,
   "metadata": {},
   "outputs": [
    {
     "data": {
      "text/plain": [
       "array([-54.55,  98.75,  48.1 ,  99.95,  64.35,  34.8 ])"
      ]
     },
     "execution_count": 22,
     "metadata": {},
     "output_type": "execute_result"
    }
   ],
   "source": [
    "vec_utility(params['mu']).mean(axis = 0)"
   ]
  },
  {
   "cell_type": "markdown",
   "metadata": {},
   "source": [
    "#### Conclusions"
   ]
  },
  {
   "cell_type": "markdown",
   "metadata": {},
   "source": []
  }
 ],
 "metadata": {
  "kernelspec": {
   "display_name": "Python 3",
   "language": "python",
   "name": "python3"
  },
  "language_info": {
   "codemirror_mode": {
    "name": "ipython",
    "version": 3
   },
   "file_extension": ".py",
   "mimetype": "text/x-python",
   "name": "python",
   "nbconvert_exporter": "python",
   "pygments_lexer": "ipython3",
   "version": "3.6.4"
  }
 },
 "nbformat": 4,
 "nbformat_minor": 2
}
