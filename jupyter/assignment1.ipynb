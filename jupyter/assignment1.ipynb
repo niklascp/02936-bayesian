{
 "cells": [
  {
   "cell_type": "markdown",
   "metadata": {},
   "source": [
    "## Assignment 1"
   ]
  },
  {
   "cell_type": "markdown",
   "metadata": {},
   "source": [
    "### 1. Basic probability theory notation and terms"
   ]
  },
  {
   "cell_type": "markdown",
   "metadata": {},
   "source": [
    "- probability\n",
    "  - A value of the chance/risk that some event/outcome will occur.\n",
    "- probability mass\n",
    "  - For discrete events/outcomes, the value of the chance/risk that the exact event/outcome will occur.\n",
    "- probability density\n",
    "  - For continuous events/outcomes, a value of the chance/risk of the event/outcome that can be compared to other events/outcomes of the same distribution.\n",
    "- probability mass function (pmf)\n",
    "  - For discrete events/outcomes, the function that maps each possible event/outcome to the corresponding probability mass.\n",
    "- probability density function (pdf)\n",
    "  - For continuous events/outcomes, the function that maps each possible event/outcome to the corresponding probability density.\n",
    "- probability distribution\n",
    "- discrete probability distribution\n",
    "- continuous probability distribution\n",
    "- cumulative distribution function (cdf)\n",
    "  - The cumulative sum of the distribution function, given that the events/outcomes are somehow orderable. I.e. the probability that an event/outcome or less will occur.\n"
   ]
  },
  {
   "cell_type": "markdown",
   "metadata": {},
   "source": [
    "- sampling distribution\n",
    "- observation model\n",
    "- likelihood"
   ]
  },
  {
   "cell_type": "markdown",
   "metadata": {},
   "source": [
    "### 2. Basic computer skills"
   ]
  },
  {
   "cell_type": "code",
   "execution_count": 1,
   "metadata": {},
   "outputs": [],
   "source": [
    "%matplotlib inline\n",
    "\n",
    "import numpy as np\n",
    "from scipy.stats import beta\n",
    "\n",
    "import matplotlib.pyplot as plt"
   ]
  },
  {
   "cell_type": "markdown",
   "metadata": {},
   "source": [
    "Calculate $\\alpha$ and $\\beta$ based on the given formula:"
   ]
  },
  {
   "cell_type": "code",
   "execution_count": 2,
   "metadata": {},
   "outputs": [
    {
     "name": "stdout",
     "output_type": "stream",
     "text": [
      "alpha = 3.0000\n",
      "beta  = 12.0000\n"
     ]
    }
   ],
   "source": [
    "mean = 0.2\n",
    "variance = 0.01\n",
    "a = mean * (mean * (1 - mean) / variance - 1)\n",
    "b = a * (1 - mean) / mean\n",
    "print('alpha = {:.4f}'.format(a))\n",
    "print('beta  = {:.4f}'.format(b))"
   ]
  },
  {
   "cell_type": "markdown",
   "metadata": {},
   "source": [
    "Define the distibution"
   ]
  },
  {
   "cell_type": "code",
   "execution_count": 3,
   "metadata": {},
   "outputs": [],
   "source": [
    "dist = beta(a, b)"
   ]
  },
  {
   "cell_type": "markdown",
   "metadata": {},
   "source": [
    "Plot the linear space between 0 and 1 in 100 steps:"
   ]
  },
  {
   "cell_type": "code",
   "execution_count": 4,
   "metadata": {},
   "outputs": [],
   "source": [
    "x = np.linspace(0, 1, 100)\n",
    "y = dist.pdf(x)"
   ]
  },
  {
   "cell_type": "code",
   "execution_count": 5,
   "metadata": {},
   "outputs": [
    {
     "data": {
      "image/png": "[encoded data removed]",
      "text/plain": [
       "<matplotlib.figure.Figure at 0x89a9240>"
      ]
     },
     "metadata": {},
     "output_type": "display_data"
    }
   ],
   "source": [
    "fig, ax = plt.subplots(figsize = (16, 4))\n",
    "ax.plot(x, y)\n",
    "ax.set_xlabel('$x$')\n",
    "ax.set_ylabel('pdf($x$)')\n",
    "ax.set_xlim(0,0.6)\n",
    "plt.show()"
   ]
  },
  {
   "cell_type": "markdown",
   "metadata": {},
   "source": [
    "We take 1000 random samples and plot the histogram:"
   ]
  },
  {
   "cell_type": "code",
   "execution_count": 6,
   "metadata": {
    "collapsed": true
   },
   "outputs": [],
   "source": [
    "samples = dist.rvs(size = 1000)"
   ]
  },
  {
   "cell_type": "code",
   "execution_count": 7,
   "metadata": {},
   "outputs": [
    {
     "data": {
      "image/png": "[encoded data removed]",
      "text/plain": [
       "<matplotlib.figure.Figure at 0x918e588>"
      ]
     },
     "metadata": {},
     "output_type": "display_data"
    }
   ],
   "source": [
    "fig, ax = plt.subplots(figsize = (16, 4))\n",
    "ax.hist(samples, bins= 30)\n",
    "ax.set_xlabel('$x$')\n",
    "ax.set_ylabel('count')\n",
    "ax.set_xlim(0,0.6)\n",
    "plt.show()"
   ]
  },
  {
   "cell_type": "markdown",
   "metadata": {},
   "source": [
    "The histogram seems to follow the original distribution as expected."
   ]
  },
  {
   "cell_type": "markdown",
   "metadata": {},
   "source": [
    "We evaluate the sample mean and variance and confirm they are approx. the true orginal values used to create the distribution:"
   ]
  },
  {
   "cell_type": "code",
   "execution_count": 8,
   "metadata": {},
   "outputs": [
    {
     "name": "stdout",
     "output_type": "stream",
     "text": [
      "Sample mean = 0.2045\n",
      "Sample var  = 0.0094\n"
     ]
    }
   ],
   "source": [
    "print('Sample mean = {:.4f}'.format(np.mean(samples)))\n",
    "print('Sample var  = {:.4f}'.format(np.var(samples)))"
   ]
  },
  {
   "cell_type": "markdown",
   "metadata": {},
   "source": [
    "We compute the Central 95%-interval of the drawn sample using the 2.5% and 97.5% percentiles as bounds:"
   ]
  },
  {
   "cell_type": "code",
   "execution_count": 9,
   "metadata": {},
   "outputs": [
    {
     "name": "stdout",
     "output_type": "stream",
     "text": [
      "Central 95%-interval of sample: 0.0155 - 0.0329\n"
     ]
    }
   ],
   "source": [
    "lwr = np.percentile(samples, q = .025)\n",
    "upr = np.percentile(samples, q = .975)\n",
    "print('Central 95%-interval of sample: {:.4f} - {:.4f}'.format(lwr, upr))"
   ]
  },
  {
   "cell_type": "markdown",
   "metadata": {},
   "source": [
    "### 3. Bayes' theorem I"
   ]
  },
  {
   "cell_type": "markdown",
   "metadata": {},
   "source": [
    "Given that lung cancer is rare in the general population, $p(c) = 0.001$, "
   ]
  },
  {
   "cell_type": "markdown",
   "metadata": {},
   "source": [
    "$p(y = 1 | c)$"
   ]
  },
  {
   "cell_type": "markdown",
   "metadata": {},
   "source": [
    "### 4. Bayes' theorem II"
   ]
  },
  {
   "cell_type": "markdown",
   "metadata": {},
   "source": [
    "We have from the text:\n",
    "$$p(\\text{red} \\; | \\; \\text{A}) = 2/7$$\n",
    "$$p(\\text{red} \\; | \\; \\text{B}) = 4/5$$\n",
    "$$p(\\text{red} \\; | \\; \\text{C}) = 1/4$$\n",
    "$$p(\\text{A}) = 40\\%$$\n",
    "$$p(\\text{B}) = 10\\%$$\n",
    "$$p(\\text{C}) = 50\\%$$\n"
   ]
  },
  {
   "cell_type": "markdown",
   "metadata": {},
   "source": [
    "Thus the probability of picking a red ball is:\n",
    "$$\n",
    "p(\\text{red} \\; | \\; \\text{A}) \\; p(\\text{A}) + \n",
    "p(\\text{red} \\; | \\; \\text{B}) \\; p(\\text{B}) +\n",
    "p(\\text{red} \\; | \\; \\text{C}) \\; p(\\text{C})\n",
    "\\approx 31.9 \\%\n",
    "$$"
   ]
  },
  {
   "cell_type": "code",
   "execution_count": 10,
   "metadata": {},
   "outputs": [
    {
     "name": "stdout",
     "output_type": "stream",
     "text": [
      "31.9%\n"
     ]
    }
   ],
   "source": [
    "p_red_A = 2/7\n",
    "p_red_B = 4/5\n",
    "p_red_C = 1/4\n",
    "p_A = .4\n",
    "p_B = .1\n",
    "p_C = .5\n",
    "p_red = p_red_A * p_A + p_red_B * p_B + p_red_C * p_C\n",
    "print('{:.1%}'.format(p_red))"
   ]
  },
  {
   "cell_type": "markdown",
   "metadata": {},
   "source": [
    "We want to calculate $p(x \\; | \\; \\text{red})$ for $x \\in \\{ \\text{A}, \\; \\text{B}, \\; \\text{C} \\}$ - we apply Bayes' theorem:"
   ]
  },
  {
   "cell_type": "code",
   "execution_count": 11,
   "metadata": {},
   "outputs": [
    {
     "name": "stdout",
     "output_type": "stream",
     "text": [
      "p_C_red = 35.8%\n",
      "p_B_red = 25.1%\n",
      "p_C_red = 39.1%\n"
     ]
    }
   ],
   "source": [
    "p_A_red = p_red_A * p_A / p_red\n",
    "p_B_red = p_red_B * p_B / p_red\n",
    "p_C_red = p_red_C * p_C / p_red\n",
    "print('p_A_red = {:.1%}'.format(p_A_red))\n",
    "print('p_B_red = {:.1%}'.format(p_B_red))\n",
    "print('p_C_red = {:.1%}'.format(p_C_red))"
   ]
  },
  {
   "cell_type": "markdown",
   "metadata": {},
   "source": [
    "From this we conclude that if we pick a red ball - it is most likely, that it came from box C."
   ]
  },
  {
   "cell_type": "markdown",
   "metadata": {},
   "source": [
    "### 5. Bayes' theorem III"
   ]
  },
  {
   "cell_type": "markdown",
   "metadata": {},
   "source": [
    "We have from the text:\n",
    "$$p(\\text{fraternal}) = 1/125$$\n",
    "$$p(\\text{identical}) = 1/300$$\n",
    "\n",
    "Since we dont know any other ways of becomming a twin we assume:\n",
    "$$p(\\text{twin}) = p(\\text{fraternal}) + p(\\text{identical})$$\n",
    "$$p(\\text{twin} \\; | \\; \\text{fraternal}) = 1$$\n",
    "$$p(\\text{twin} \\; | \\; \\text{identical}) = 1$$"
   ]
  },
  {
   "cell_type": "code",
   "execution_count": 12,
   "metadata": {
    "collapsed": true
   },
   "outputs": [],
   "source": [
    "p_fraternal = 1/125\n",
    "p_identical = 1/300\n",
    "p_twin = p_fraternal + p_identical"
   ]
  },
  {
   "cell_type": "markdown",
   "metadata": {},
   "source": [
    "Since we knew Elvis were a twin, we want to calculate the following:\n",
    "$$p(\\text{identical} \\; | \\; \\text{twin})$$"
   ]
  },
  {
   "cell_type": "markdown",
   "metadata": {},
   "source": [
    "We apply Bayes' theorem and see that there were a 29% chance that Elvis and his death twin brother were identical twins:"
   ]
  },
  {
   "cell_type": "code",
   "execution_count": 13,
   "metadata": {},
   "outputs": [
    {
     "name": "stdout",
     "output_type": "stream",
     "text": [
      "29.4%\n"
     ]
    }
   ],
   "source": [
    "p_identical_twin = p_identical / p_twin\n",
    "print('{:.1%}'.format(p_identical_twin))"
   ]
  }
 ],
 "metadata": {
  "kernelspec": {
   "display_name": "Python 3",
   "language": "python",
   "name": "python3"
  },
  "language_info": {
   "codemirror_mode": {
    "name": "ipython",
    "version": 3
   },
   "file_extension": ".py",
   "mimetype": "text/x-python",
   "name": "python",
   "nbconvert_exporter": "python",
   "pygments_lexer": "ipython3",
   "version": "3.6.1"
  }
 },
 "nbformat": 4,
 "nbformat_minor": 2
}
