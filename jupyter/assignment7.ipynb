{
 "cells": [
  {
   "cell_type": "markdown",
   "metadata": {},
   "source": [
    "## Assignment 7"
   ]
  },
  {
   "cell_type": "code",
   "execution_count": 38,
   "metadata": {},
   "outputs": [
    {
     "name": "stdout",
     "output_type": "stream",
     "text": [
      "numpy 1.14.1\n",
      "pystan 2.17.1.0\n"
     ]
    }
   ],
   "source": [
    "%matplotlib inline\n",
    "\n",
    "import numpy as np\n",
    "\n",
    "import pystan\n",
    "import stan_utility\n",
    "import psis\n",
    "\n",
    "import matplotlib\n",
    "import matplotlib.pyplot as plt\n",
    "\n",
    "font = {'size': 16}\n",
    "\n",
    "matplotlib.rc('font', **font)\n",
    "\n",
    "print('numpy', np.__version__)\n",
    "print('pystan', pystan.__version__)"
   ]
  },
  {
   "cell_type": "markdown",
   "metadata": {},
   "source": [
    "### 1. Model assessment: LOO-CV for factory data with Stan"
   ]
  },
  {
   "cell_type": "markdown",
   "metadata": {},
   "source": [
    "Some utility functions"
   ]
  },
  {
   "cell_type": "code",
   "execution_count": 70,
   "metadata": {},
   "outputs": [],
   "source": [
    "def p_eff(loo, log_likelihood):\n",
    "    loo_ll = np.sum(np.log(np.mean(np.exp(log_likelihood), axis = 0)))\n",
    "    return loo_ll - loo"
   ]
  },
  {
   "cell_type": "code",
   "execution_count": 90,
   "metadata": {},
   "outputs": [],
   "source": [
    "def loohist(model, loos):\n",
    "    fig, ax = plt.subplots(figsize = (16, 6))\n",
    "    ax.set_title(model + r' model, PSIS-LOO-log posterior distribution')\n",
    "    ax.hist(loos, fc=(23/255, 190/255, 207/255, 0.25), linestyle = '-', linewidth = 1, edgecolor = 'C9')\n",
    "    ax.set_xlabel(r'$\\mathrm{log}(\\mathrm{PSIS-LOO})$')\n",
    "    ax.set_ylabel(r'count')"
   ]
  },
  {
   "cell_type": "code",
   "execution_count": 56,
   "metadata": {},
   "outputs": [],
   "source": [
    "def khist(model, ks):\n",
    "    fig, ax = plt.subplots(figsize = (16, 6))\n",
    "    ax.set_title(model + r' model, $k$-values distribution')\n",
    "    ax.hist(ks, bins=np.arange(.9, step = .1), fc=(23/255, 190/255, 207/255, 0.25), linestyle = '-', linewidth = 1, edgecolor = 'C9')\n",
    "    ax.set_xlabel(r'$k$')\n",
    "    ax.set_ylabel(r'count')\n",
    "    ax.vlines(x = .7, color = 'red', ymin = 0, ymax = 12)"
   ]
  },
  {
   "cell_type": "markdown",
   "metadata": {},
   "source": [
    "We load the data"
   ]
  },
  {
   "cell_type": "code",
   "execution_count": 10,
   "metadata": {},
   "outputs": [
    {
     "data": {
      "text/plain": [
       "(5, 6)"
      ]
     },
     "execution_count": 10,
     "metadata": {},
     "output_type": "execute_result"
    }
   ],
   "source": [
    "data_factory = np.loadtxt('../data/factory.txt')\n",
    "data_factory.shape"
   ]
  },
  {
   "cell_type": "markdown",
   "metadata": {},
   "source": [
    "We fit the models as described in the previous assignment"
   ]
  },
  {
   "cell_type": "markdown",
   "metadata": {},
   "source": [
    "#### 1.1 Separate model\n",
    "For the seperate model we fit each machine using independent $\\mu_j$ and $\\sigma_j$:"
   ]
  },
  {
   "cell_type": "code",
   "execution_count": 16,
   "metadata": {},
   "outputs": [
    {
     "name": "stderr",
     "output_type": "stream",
     "text": [
      "INFO:pystan:COMPILING THE C++ CODE FOR MODEL anon_model_f47d3427291e8c13645a4740e9b0976d NOW.\n"
     ]
    }
   ],
   "source": [
    "stan_code = \"\"\"\n",
    "data {\n",
    "  int<lower=0> N;            // number of data points\n",
    "  int<lower=0> K;            // number of groups\n",
    "  int<lower=1,upper=K> x[N]; // group indicator\n",
    "  vector[N] y;               // target\n",
    "}\n",
    "parameters {\n",
    "  vector[K] mu;              // group means\n",
    "  vector<lower=0>[K] sigma;  // group std\n",
    "}\n",
    "model {\n",
    "  y ~ normal(mu[x], sigma[x]);\n",
    "}\n",
    "generated quantities {\n",
    "    vector[N] log_likelihood;\n",
    "    for(n in 1:N)\n",
    "        log_likelihood[n] = normal_log(y[n], mu[x[n]], sigma[x[n]]);\n",
    "}\n",
    "\"\"\"\n",
    "\n",
    "model_separate = pystan.StanModel(model_code = stan_code)"
   ]
  },
  {
   "cell_type": "code",
   "execution_count": 17,
   "metadata": {},
   "outputs": [
    {
     "name": "stderr",
     "output_type": "stream",
     "text": [
      "c:\\users\\ncp\\appdata\\local\\continuum\\anaconda3\\envs\\stan_env\\lib\\site-packages\\pystan\\misc.py:399: FutureWarning: Conversion of the second argument of issubdtype from `float` to `np.floating` is deprecated. In future, it will be treated as `np.float64 == np.dtype(float).type`.\n",
      "  elif np.issubdtype(np.asarray(v).dtype, float):\n"
     ]
    }
   ],
   "source": [
    "x = np.tile(np.arange(1, data_factory.shape[1] + 1), data_factory.shape[0])\n",
    "y = data_factory.flatten()\n",
    "N = len(x)\n",
    "K = np.max(x)\n",
    "\n",
    "fit_separate = model_separate.sampling(\n",
    "    data = {\n",
    "        'N': N,\n",
    "        'K': K,\n",
    "        'x': x,\n",
    "        'y': y\n",
    "    })"
   ]
  },
  {
   "cell_type": "markdown",
   "metadata": {},
   "source": [
    "We check the fitted parameters and the performance of the fit, i.e. the treedepth, E-BFMI, and divergences:"
   ]
  },
  {
   "cell_type": "code",
   "execution_count": 18,
   "metadata": {},
   "outputs": [
    {
     "name": "stdout",
     "output_type": "stream",
     "text": [
      "0 of 4000 iterations saturated the maximum tree depth of 10 (0.0%)\n",
      "0.0 of 4000 iterations ended with a divergence (0.0%)\n"
     ]
    }
   ],
   "source": [
    "stan_utility.check_treedepth(fit_separate)\n",
    "stan_utility.check_energy(fit_separate)\n",
    "stan_utility.check_div(fit_separate)"
   ]
  },
  {
   "cell_type": "code",
   "execution_count": 22,
   "metadata": {},
   "outputs": [],
   "source": [
    "params_separate = fit_separate.extract()"
   ]
  },
  {
   "cell_type": "markdown",
   "metadata": {},
   "source": [
    "We run PSIS-LOO on the generated log likelihood"
   ]
  },
  {
   "cell_type": "code",
   "execution_count": 63,
   "metadata": {},
   "outputs": [],
   "source": [
    "loo_separate, loos_separate, ks_separate = psis.psisloo(params_separate['log_likelihood'])"
   ]
  },
  {
   "cell_type": "markdown",
   "metadata": {},
   "source": [
    " We plot the distribution of the $\\text{PSIS-LOO}$-values"
   ]
  },
  {
   "cell_type": "code",
   "execution_count": 91,
   "metadata": {},
   "outputs": [
    {
     "data": {
      "image/png": "[encoded data removed]",
      "text/plain": [
       "<matplotlib.figure.Figure at 0xa9ec048>"
      ]
     },
     "metadata": {},
     "output_type": "display_data"
    }
   ],
   "source": [
    "loohist('Separate', loos_separate)"
   ]
  },
  {
   "cell_type": "markdown",
   "metadata": {},
   "source": [
    "We report the effective number of parameters $p_\\mathrm{eff}$:"
   ]
  },
  {
   "cell_type": "code",
   "execution_count": 72,
   "metadata": {},
   "outputs": [
    {
     "data": {
      "text/plain": [
       "9.615312590848063"
      ]
     },
     "execution_count": 72,
     "metadata": {},
     "output_type": "execute_result"
    }
   ],
   "source": [
    "p_eff(loo_separate, params_separate['log_likelihood'])"
   ]
  },
  {
   "cell_type": "markdown",
   "metadata": {},
   "source": [
    "We inspect the $k$-values vizually, and see that 2 of the $k$-values exceed the threshold $0.7$, e.g. $6.7\\%$. So there is a concern that the accuracy may be biased (too optimistic, overestimating the predictive accuracy of the model)."
   ]
  },
  {
   "cell_type": "code",
   "execution_count": 64,
   "metadata": {},
   "outputs": [
    {
     "data": {
      "image/png": "[encoded data removed]",
      "text/plain": [
       "<matplotlib.figure.Figure at 0xe87b4e0>"
      ]
     },
     "metadata": {},
     "output_type": "display_data"
    }
   ],
   "source": [
    "khist('Separate', ks_separate)"
   ]
  },
  {
   "cell_type": "markdown",
   "metadata": {},
   "source": [
    "#### 2.1 Pooled model\n",
    "For the pooled model we fit all as a single machine, e.g. $x_j = 1$ for all $j = 1 \\ldots 6$, and $K = 1$."
   ]
  },
  {
   "cell_type": "code",
   "execution_count": 52,
   "metadata": {},
   "outputs": [
    {
     "name": "stderr",
     "output_type": "stream",
     "text": [
      "c:\\users\\ncp\\appdata\\local\\continuum\\anaconda3\\envs\\stan_env\\lib\\site-packages\\pystan\\misc.py:399: FutureWarning: Conversion of the second argument of issubdtype from `float` to `np.floating` is deprecated. In future, it will be treated as `np.float64 == np.dtype(float).type`.\n",
      "  elif np.issubdtype(np.asarray(v).dtype, float):\n"
     ]
    }
   ],
   "source": [
    "x_pooled = np.array([1] * len(y))\n",
    "\n",
    "fit_pooled = model_separate.sampling(\n",
    "    data = {\n",
    "        'N': N,\n",
    "        'K': 1,\n",
    "        'x': x_pooled,\n",
    "        'y': y\n",
    "    })"
   ]
  },
  {
   "cell_type": "markdown",
   "metadata": {},
   "source": [
    "We check the fitted parameters and the performance of the fit, i.e. the treedepth, E-BFMI, and divergences:"
   ]
  },
  {
   "cell_type": "code",
   "execution_count": 53,
   "metadata": {},
   "outputs": [
    {
     "name": "stdout",
     "output_type": "stream",
     "text": [
      "0 of 4000 iterations saturated the maximum tree depth of 10 (0.0%)\n",
      "0.0 of 4000 iterations ended with a divergence (0.0%)\n"
     ]
    }
   ],
   "source": [
    "stan_utility.check_treedepth(fit_pooled)\n",
    "stan_utility.check_energy(fit_pooled)\n",
    "stan_utility.check_div(fit_pooled)"
   ]
  },
  {
   "cell_type": "code",
   "execution_count": 54,
   "metadata": {},
   "outputs": [],
   "source": [
    "params_pooled = fit_pooled.extract()"
   ]
  },
  {
   "cell_type": "markdown",
   "metadata": {},
   "source": [
    "We run PSIS-LOO on the generated log likelihood"
   ]
  },
  {
   "cell_type": "code",
   "execution_count": 57,
   "metadata": {},
   "outputs": [],
   "source": [
    "loo_pooled, loos_pooled, ks_pooled = psis.psisloo(params_pooled['log_likelihood'])"
   ]
  },
  {
   "cell_type": "markdown",
   "metadata": {},
   "source": [
    " We plot the distribution of the $\\text{PSIS-LOO}$-values"
   ]
  },
  {
   "cell_type": "code",
   "execution_count": 92,
   "metadata": {},
   "outputs": [
    {
     "data": {
      "image/png": "[encoded data removed]",
      "text/plain": [
       "<matplotlib.figure.Figure at 0xb142860>"
      ]
     },
     "metadata": {},
     "output_type": "display_data"
    }
   ],
   "source": [
    "loohist('Pooled', loos_pooled)"
   ]
  },
  {
   "cell_type": "markdown",
   "metadata": {},
   "source": [
    "We report the effective number of parameters $p_\\mathrm{eff}$:"
   ]
  },
  {
   "cell_type": "code",
   "execution_count": 93,
   "metadata": {},
   "outputs": [
    {
     "data": {
      "text/plain": [
       "2.0508441730696063"
      ]
     },
     "execution_count": 93,
     "metadata": {},
     "output_type": "execute_result"
    }
   ],
   "source": [
    "p_eff(loo_pooled, params_pooled['log_likelihood'])"
   ]
  },
  {
   "cell_type": "markdown",
   "metadata": {},
   "source": [
    "We inspect the $k$-values vizually, and see that none of the $k$-values exceed the threshold $0.7$. So accuracy is assesed to be reliable."
   ]
  },
  {
   "cell_type": "code",
   "execution_count": 94,
   "metadata": {
    "scrolled": false
   },
   "outputs": [
    {
     "data": {
      "image/png": "[encoded data removed]",
      "text/plain": [
       "<matplotlib.figure.Figure at 0xd048b70>"
      ]
     },
     "metadata": {},
     "output_type": "display_data"
    }
   ],
   "source": [
    "khist('Pooled', ks_pooled)"
   ]
  },
  {
   "cell_type": "markdown",
   "metadata": {},
   "source": [
    "#### 1.3 Hierarchical model"
   ]
  },
  {
   "cell_type": "code",
   "execution_count": 61,
   "metadata": {},
   "outputs": [
    {
     "name": "stderr",
     "output_type": "stream",
     "text": [
      "INFO:pystan:COMPILING THE C++ CODE FOR MODEL anon_model_a24b668e4cbeee7bed03087a42d25f05 NOW.\n"
     ]
    }
   ],
   "source": [
    "stan_code_hierarchical = \"\"\"\n",
    "data {\n",
    "  int<lower=0> N;            // number of data points\n",
    "  int<lower=0> K;            // number of groups\n",
    "  int<lower=1,upper=K> x[N]; // group indicator\n",
    "  vector[N] y;               // target\n",
    "}\n",
    "parameters {\n",
    "  real mu_prior;             // shared prior mean\n",
    "  real<lower=0> sigma_prior; // shared prior std\n",
    "  vector[K] mu;              // group means\n",
    "  real<lower=0> sigma;       // shared std\n",
    "}\n",
    "model {\n",
    "  for (k in 1:K) {\n",
    "    mu[k] ~ normal(mu_prior, sigma_prior);\n",
    "  }\n",
    "  y ~ normal(mu[x], sigma);\n",
    "}\n",
    "generated quantities {\n",
    "    vector[N] log_likelihood;\n",
    "    for(n in 1:N)\n",
    "        log_likelihood[n] = normal_log(y[n], mu[x[n]], sigma);\n",
    "}\n",
    "\"\"\"\n",
    "\n",
    "model_hierarchical = pystan.StanModel(model_code = stan_code_hierarchical)"
   ]
  },
  {
   "cell_type": "code",
   "execution_count": 65,
   "metadata": {},
   "outputs": [
    {
     "name": "stderr",
     "output_type": "stream",
     "text": [
      "c:\\users\\ncp\\appdata\\local\\continuum\\anaconda3\\envs\\stan_env\\lib\\site-packages\\pystan\\misc.py:399: FutureWarning: Conversion of the second argument of issubdtype from `float` to `np.floating` is deprecated. In future, it will be treated as `np.float64 == np.dtype(float).type`.\n",
      "  elif np.issubdtype(np.asarray(v).dtype, float):\n"
     ]
    }
   ],
   "source": [
    "fit_hierarchical = model_hierarchical.sampling(\n",
    "    data = {\n",
    "        'N': N,\n",
    "        'K': K,\n",
    "        'x': x,\n",
    "        'y': y\n",
    "    })"
   ]
  },
  {
   "cell_type": "markdown",
   "metadata": {},
   "source": [
    "We check the fitted parameters and the performance of the fit, i.e. the treedepth, E-BFMI, and divergences:"
   ]
  },
  {
   "cell_type": "code",
   "execution_count": 66,
   "metadata": {},
   "outputs": [
    {
     "name": "stdout",
     "output_type": "stream",
     "text": [
      "0 of 4000 iterations saturated the maximum tree depth of 10 (0.0%)\n",
      "21.0 of 4000 iterations ended with a divergence (0.525%)\n",
      "Try running with larger adapt_delta to remove the divergences\n"
     ]
    }
   ],
   "source": [
    "stan_utility.check_treedepth(fit_hierarchical)\n",
    "stan_utility.check_energy(fit_hierarchical)\n",
    "stan_utility.check_div(fit_hierarchical)"
   ]
  },
  {
   "cell_type": "markdown",
   "metadata": {},
   "source": [
    "We see some iterations ended with a divergence, but since it is such small fraction, we accept the performance."
   ]
  },
  {
   "cell_type": "code",
   "execution_count": 67,
   "metadata": {},
   "outputs": [],
   "source": [
    "params_hierarchical = fit_hierarchical.extract()"
   ]
  },
  {
   "cell_type": "markdown",
   "metadata": {},
   "source": [
    "We run PSIS-LOO on the generated log likelihood"
   ]
  },
  {
   "cell_type": "code",
   "execution_count": 68,
   "metadata": {},
   "outputs": [],
   "source": [
    "loo_hierarchical, loos_hierarchical, ks_hierarchical = psis.psisloo(params_hierarchical['log_likelihood'])"
   ]
  },
  {
   "cell_type": "markdown",
   "metadata": {},
   "source": [
    " We plot the distribution of the $\\text{PSIS-LOO}$-values"
   ]
  },
  {
   "cell_type": "code",
   "execution_count": 96,
   "metadata": {},
   "outputs": [
    {
     "data": {
      "image/png": "[encoded data removed]",
      "text/plain": [
       "<matplotlib.figure.Figure at 0xa437cf8>"
      ]
     },
     "metadata": {},
     "output_type": "display_data"
    }
   ],
   "source": [
    "loohist('Hierarchical', loos_hierarchical)"
   ]
  },
  {
   "cell_type": "markdown",
   "metadata": {},
   "source": [
    "We report the effective number of parameters $p_\\mathrm{eff}$:"
   ]
  },
  {
   "cell_type": "code",
   "execution_count": 97,
   "metadata": {},
   "outputs": [
    {
     "data": {
      "text/plain": [
       "5.529017224113474"
      ]
     },
     "execution_count": 97,
     "metadata": {},
     "output_type": "execute_result"
    }
   ],
   "source": [
    "p_eff(loo_hierarchical, params_hierarchical['log_likelihood'])"
   ]
  },
  {
   "cell_type": "markdown",
   "metadata": {},
   "source": [
    "We inspect the $k$-values vizually, and see that none of the $k$-values exceed the threshold $0.7$. So accuracy is assesed to be reliable."
   ]
  },
  {
   "cell_type": "code",
   "execution_count": 69,
   "metadata": {
    "scrolled": false
   },
   "outputs": [
    {
     "data": {
      "image/png": "[encoded data removed]",
      "text/plain": [
       "<matplotlib.figure.Figure at 0xe89cf60>"
      ]
     },
     "metadata": {},
     "output_type": "display_data"
    }
   ],
   "source": [
    "khist('Hierarchical', ks_hierarchical)"
   ]
  },
  {
   "cell_type": "markdown",
   "metadata": {},
   "source": [
    "#### 1.4 Conclusions"
   ]
  },
  {
   "cell_type": "markdown",
   "metadata": {},
   "source": [
    "In the seperate model, we see the results for the approximate LOO-CV are unreliable, and thus we cannot use the approximated PSIS-LOO values for determining if this model should not be selected. The approximate LOO-CV results for the pooled and hierarchical models are on the other hand reliable.\n",
    "\n",
    "The $k$-values distribution for the pooled model is not symetric, and based in the performance of $p_\\mathrm{eff}(\\mathrm{Pooled})$ and $p_\\mathrm{eff}(\\mathrm{Hierarchical})$ we etablish, that the hierarchical model is preferred over the pooled.\n"
   ]
  }
 ],
 "metadata": {
  "kernelspec": {
   "display_name": "Python 3",
   "language": "python",
   "name": "python3"
  },
  "language_info": {
   "codemirror_mode": {
    "name": "ipython",
    "version": 3
   },
   "file_extension": ".py",
   "mimetype": "text/x-python",
   "name": "python",
   "nbconvert_exporter": "python",
   "pygments_lexer": "ipython3",
   "version": "3.6.4"
  }
 },
 "nbformat": 4,
 "nbformat_minor": 2
}
